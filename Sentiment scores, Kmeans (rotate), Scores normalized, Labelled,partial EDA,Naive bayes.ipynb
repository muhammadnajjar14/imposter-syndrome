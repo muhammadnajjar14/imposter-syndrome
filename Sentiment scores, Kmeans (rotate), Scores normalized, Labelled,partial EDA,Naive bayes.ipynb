{
 "cells": [
  {
   "cell_type": "code",
   "execution_count": 1,
   "id": "2efefd13",
   "metadata": {},
   "outputs": [],
   "source": [
    "#https://raw.githubusercontent.com/riyaeliza123/imposter-syndrome/main/Imposter%20Syndrome%20csv.csv\n",
    "#https://raw.githubusercontent.com/riyaeliza123/imposter-syndrome/main/Cleaned%20Imposter%20Syndrome.csv\n",
    "\n",
    "import pandas as pd\n",
    "import numpy as np\n"
   ]
  },
  {
   "cell_type": "code",
   "execution_count": 2,
   "id": "3d48809c",
   "metadata": {},
   "outputs": [
    {
     "ename": "ModuleNotFoundError",
     "evalue": "No module named 'vaderSentiment'",
     "output_type": "error",
     "traceback": [
      "\u001b[1;31m---------------------------------------------------------------------------\u001b[0m",
      "\u001b[1;31mModuleNotFoundError\u001b[0m                       Traceback (most recent call last)",
      "\u001b[1;32m~\\AppData\\Local\\Temp/ipykernel_8244/2972789414.py\u001b[0m in \u001b[0;36m<module>\u001b[1;34m\u001b[0m\n\u001b[1;32m----> 1\u001b[1;33m \u001b[1;32mfrom\u001b[0m \u001b[0mvaderSentiment\u001b[0m\u001b[1;33m.\u001b[0m\u001b[0mvaderSentiment\u001b[0m \u001b[1;32mimport\u001b[0m \u001b[0mSentimentIntensityAnalyzer\u001b[0m\u001b[1;33m\u001b[0m\u001b[1;33m\u001b[0m\u001b[0m\n\u001b[0m\u001b[0;32m      2\u001b[0m \u001b[1;33m\u001b[0m\u001b[0m\n\u001b[0;32m      3\u001b[0m \u001b[1;31m#pass sentence, returns pos/neg\u001b[0m\u001b[1;33m\u001b[0m\u001b[1;33m\u001b[0m\u001b[0m\n\u001b[0;32m      4\u001b[0m \u001b[1;31m#take each sentence, add all pos, neu and neg and finally give overall sentiment per gender\u001b[0m\u001b[1;33m\u001b[0m\u001b[1;33m\u001b[0m\u001b[0m\n\u001b[0;32m      5\u001b[0m \u001b[1;31m#make 2 datasets (m,f) and do sentiment analysis\u001b[0m\u001b[1;33m\u001b[0m\u001b[1;33m\u001b[0m\u001b[0m\n",
      "\u001b[1;31mModuleNotFoundError\u001b[0m: No module named 'vaderSentiment'"
     ]
    }
   ],
   "source": [
    "from vaderSentiment.vaderSentiment import SentimentIntensityAnalyzer\n",
    "\n",
    "#pass sentence, returns pos/neg\n",
    "#take each sentence, add all pos, neu and neg and finally give overall sentiment per gender\n",
    "#make 2 datasets (m,f) and do sentiment analysis"
   ]
  },
  {
   "cell_type": "code",
   "execution_count": 127,
   "id": "14bbb75f",
   "metadata": {},
   "outputs": [
    {
     "name": "stderr",
     "output_type": "stream",
     "text": [
      "C:\\Users\\hp\\AppData\\Local\\Temp/ipykernel_8244/2672958581.py:3: FutureWarning: In a future version of pandas all arguments of DataFrame.drop except for the argument 'labels' will be keyword-only\n",
      "  df = df.drop('S.NO.', 1)\n"
     ]
    }
   ],
   "source": [
    "df = pd.read_csv('https://raw.githubusercontent.com/riyaeliza123/imposter-syndrome/main/Cleaned%20Imposter%20Syndrome.csv')\n",
    "#df\n",
    "df = df.drop('S.NO.', 1)\n",
    "#renaming columns for easy reference\n",
    "df.rename(columns = {'Do you chalk your success up to fates, luck or\\nerror?':'success', \n",
    "                     'Many times, you feel crushed by constructive criticism, seeing it as evidence of your \"ineptness\"?':'many ineptness',\n",
    "                     'Do you believe \"If I can do it, anybody can\"?':'if anybody can',\n",
    "                     'Do you agonize over the smallest flaws in your work?':'agonize',\n",
    "                     'Do you believe that everything you do must be completely perfect?':'perfect',\n",
    "                     'In rare cases you feel crushed by constructive criticism, seeing it evidence of your \"ineptness\"?':'rare ineptness',\n",
    "                     'Do you feel incompetent despite attaining success?':'incompetent',\n",
    "                     'You compare your abilities to people around you and think that others may be more intelligent than you.':'compare',\n",
    "                     'You blame your luck for success rather than hard work':'luck not hard work',\n",
    "                     'Do you think shortcut to success makes you smarter':'shortcut',\n",
    "                     'Do you often fear not meeting other people\\'s expectations?':'expectations',\n",
    "                     'I am a perfectionist':'perfectionist',\n",
    "                     'Do you feel like a non-valuable member of the family if you don\\'t participate in domestic work?':'domestic',\n",
    "                     '\"I have to be good at a particular activity to enjoy it\" (As in, if you picked up a new hobby like painting, the only way you feel good about doing it is if you are using perfect techniques and doing it the \"right\" way)':'enjoy activity',\n",
    "                     'I believe that means is more important than the ends':'means',\n",
    "                     'When people compliment you, you think you are not as accomplished as they think':'compliment',\n",
    "                     'Most of your success has been a stroke of luck':'stroke of luck',\n",
    "                     'You have an above-average IQ score':'IQ score',\n",
    "                     'Your emotional quotient is better than your general IQ score':'EQ',\n",
    "                     'You downplay compliments from others.':'no compliments',\n",
    "                     'Do you feel like an unimportant family member if you don\\'t involve in decision-making process?':'not imp',\n",
    "                     'Which places do you think you can be yourself without being judged?':'place not judged',\n",
    "                     'What places do you think you pretend to be someone you are not?':'place judged',\n",
    "                     'At least 70% of individuals have dissatisfaction in their lives. Women mostly face self-image issues and in men, it is driven by the fear of not being successful or letting people down. Do you agree with this? And in your experience, how have you seen variances to the mentioned scenarios?':'letting people down',\n",
    "                     'As the campus has reopened after conducting classes, examinations, and project reviews online over the past 2 years, do you feel that this might bring up changes in confidence levels, due to the adjustments which may have arisen doubts in self-esteem from the initial change of method?':'post covid confidence',\n",
    "                     'You have doubts about your abilities despite people around you trusting you.':'trust'\n",
    "\n",
    "                        }, inplace = True)\n",
    "\n",
    "#df\n",
    "\n",
    "#preprocessing\n",
    "#in the comfort percentage, change all NA to 0\n",
    "#df1=df[0:5]  #first 6 rows\n",
    "\n",
    "df.update(df[['comfort.home','comfort.college','comfort.friends', 'comfort.work','comfort.online', 'comfort.alterego']].fillna('0'))\n",
    "#df\n",
    "\n",
    "#CONVERT THE DATASET - Left affinity on scale shows imposter syndrome (Q 3-25)\n",
    "#convert 8,12,18\n",
    "#ignore 16,25 - gender roles related\n",
    "\n",
    "#8\n",
    "df['rare ineptness'] = df['rare ineptness'].replace(['SA','A','D','SD'],['SD','D','A','SA'])\n",
    "\n",
    "#12\n",
    "df['shortcut'] = df['shortcut'].replace(['SA','A','D','SD'],['SD','D','A','SA'])\n",
    "\n",
    "#18\n",
    "df['means'] = df['means'].replace(['SA','A','D','SD'],['SD','D','A','SA'])\n",
    "\n",
    "#Select relevent columns\n",
    "imposter_df=df.iloc[:,0:25]\n",
    "\n",
    "#remove irrelevent cols\n",
    "imposter_df.drop(columns=['domestic','not imp'],inplace=True)\n",
    "\n",
    "#imposter_df\n",
    "df.to_csv('impostor.csv')\n",
    "\n",
    "i_df=imposter_df\n",
    "i_df=i_df.drop(['Age'], axis = 1)\n",
    "i_df.rename(columns = {'Gender':'gender'}, inplace = True)\n",
    "\n",
    "#display(i_df)\n",
    "\n",
    "#i_df['Gender'] = i_df['Gender'].replace({'F': 0})\n",
    "#i_df['Gender'] = i_df['Gender'].replace({'M': 1})\n",
    "\n",
    "for i in i_df:\n",
    "    i_df[i] = i_df[i].fillna('N')\n",
    "\n",
    "#i_df.to_csv('impostor.csv')\n"
   ]
  },
  {
   "cell_type": "code",
   "execution_count": null,
   "id": "02a5cc03",
   "metadata": {},
   "outputs": [],
   "source": [
    "# function to print sentiments of the sentence.\n",
    "comp=[]\n",
    "def sentiment_scores(sentence):\n",
    " \n",
    "    sid_obj = SentimentIntensityAnalyzer()\n",
    "    sentiment_dict = sid_obj.polarity_scores(sentence) #polarity_scores is predefined, contains neg, neu and pos\n",
    "    comp.append(sentiment_dict['compound'])\n",
    "    return comp"
   ]
  },
  {
   "cell_type": "code",
   "execution_count": null,
   "id": "cacc6b46",
   "metadata": {},
   "outputs": [],
   "source": [
    "def compound_value(df):\n",
    "    letpep=df.astype(str)\n",
    "    for i in letpep:\n",
    "        sentiment_scores(i)\n",
    "    return comp"
   ]
  },
  {
   "cell_type": "code",
   "execution_count": null,
   "id": "6ee59816",
   "metadata": {
    "scrolled": true
   },
   "outputs": [],
   "source": [
    "df['Letting people down (score)']=compound_value(df['letting people down'])"
   ]
  },
  {
   "cell_type": "code",
   "execution_count": null,
   "id": "b7a7e390",
   "metadata": {},
   "outputs": [],
   "source": [
    "comp=[]\n",
    "df['Post covid confidence (score)']=compound_value(df['post covid confidence'])"
   ]
  },
  {
   "cell_type": "code",
   "execution_count": null,
   "id": "53741f07",
   "metadata": {},
   "outputs": [],
   "source": [
    "senti=[]\n",
    "def find_sentiment(col):\n",
    "    for i in col:\n",
    "        if  i>= 0.34 :\n",
    "            senti.append(\"Positive\")\n",
    "        elif i<= -0.34 :\n",
    "            senti.append(\"Negative\")\n",
    "        else :\n",
    "            senti.append(\"Neutral\") \n",
    "    return senti"
   ]
  },
  {
   "cell_type": "code",
   "execution_count": null,
   "id": "b1908ae4",
   "metadata": {},
   "outputs": [],
   "source": [
    "df['Letting people down (sentiment)']=find_sentiment(df['Letting people down (score)'])"
   ]
  },
  {
   "cell_type": "code",
   "execution_count": null,
   "id": "7edd886a",
   "metadata": {},
   "outputs": [],
   "source": [
    "senti=[]\n",
    "df['Post covid confidence (sentiment)']=find_sentiment(df['Post covid confidence (score)'])"
   ]
  },
  {
   "cell_type": "code",
   "execution_count": null,
   "id": "48f7721c",
   "metadata": {},
   "outputs": [],
   "source": [
    "#df.to_csv('Sentiment scores with values-whole dataset.csv')"
   ]
  },
  {
   "cell_type": "code",
   "execution_count": null,
   "id": "81135cda",
   "metadata": {},
   "outputs": [],
   "source": [
    "#sentiment_scores(df. iat[0,0])\n",
    "def find_comp(df):\n",
    "    letpep=df.astype(str)\n",
    "    for i in letpep:\n",
    "        sentiment_scores(i)\n",
    "    \n",
    "    meancomp=np.mean(comp)\n",
    "    print(meancomp)\n",
    "    # decide sentiment as positive, negative and neutral\n",
    "    if meancomp >= 0.34 :\n",
    "        print(\"Positive\")\n",
    "    elif meancomp<= -0.34 :\n",
    "        print(\"Negative\")\n",
    "    else :\n",
    "        print(\"Neutral\") "
   ]
  },
  {
   "cell_type": "code",
   "execution_count": null,
   "id": "aafc4b8e",
   "metadata": {},
   "outputs": [],
   "source": [
    "dfmale = df[df['Gender'] == 'M']\n",
    "#print (dfmale)\n",
    "dffemale = df[df['Gender'] == 'F']\n",
    "#dffemale"
   ]
  },
  {
   "cell_type": "code",
   "execution_count": null,
   "id": "66128006",
   "metadata": {},
   "outputs": [],
   "source": [
    "find_comp(dfmale['letting people down'])"
   ]
  },
  {
   "cell_type": "code",
   "execution_count": null,
   "id": "954504f3",
   "metadata": {},
   "outputs": [],
   "source": [
    "find_comp(dfmale['post covid confidence'])"
   ]
  },
  {
   "cell_type": "code",
   "execution_count": null,
   "id": "73e02c61",
   "metadata": {},
   "outputs": [],
   "source": [
    "find_comp(dffemale['letting people down'])"
   ]
  },
  {
   "cell_type": "code",
   "execution_count": null,
   "id": "52ada6cd",
   "metadata": {},
   "outputs": [],
   "source": [
    "find_comp(dffemale['post covid confidence'])"
   ]
  },
  {
   "cell_type": "code",
   "execution_count": 4,
   "id": "0aa44733",
   "metadata": {},
   "outputs": [],
   "source": [
    "#STARTING VALUES FOR KMEANS\n",
    "i_df.drop(['agonize','perfect','perfectionist','enjoy activity', 'IQ score', 'EQ', 'means'], axis=1, inplace=True)"
   ]
  },
  {
   "cell_type": "code",
   "execution_count": 137,
   "id": "de996bba",
   "metadata": {
    "scrolled": false
   },
   "outputs": [],
   "source": [
    "#code to assign weights\n",
    "\n",
    "idf=[]\n",
    "idf=i_df.iloc[:, 0:15]\n",
    "\n",
    "\n",
    "weight2=idf.filter(['many ineptness', 'rare ineptness','luck not hard work','shortcut','trust','compliment','stroke of luck'], axis=1)\n",
    "weight2[\"SA\"] = weight2.apply(lambda row: sum(row[0:7]==\"SA\") ,axis=1)\n",
    "weight2[\"A\"] = weight2.apply(lambda row: sum(row[0:7]==\"A\") ,axis=1)\n",
    "weight2[\"N\"] = weight2.apply(lambda row: sum(row[0:7]==\"N\") ,axis=1)\n",
    "weight2[\"D\"] = weight2.apply(lambda row: sum(row[0:7]==\"D\") ,axis=1)\n",
    "weight2[\"SD\"] = weight2.apply(lambda row: sum(row[0:7]==\"SD\") ,axis=1)\n",
    "\n",
    "weight2_ctr=weight2[['SA','A','N','D','SD']]\n",
    "weight2_ctr*=2\n",
    "\n",
    "weight1=idf.filter(['success','if anybody can','incompetent','compare','expectations','no compliments'], axis=1)\n",
    "weight1[\"SA\"] = weight1.apply(lambda row: sum(row[0:6]==\"SA\") ,axis=1)\n",
    "weight1[\"A\"] = weight1.apply(lambda row: sum(row[0:6]==\"A\") ,axis=1)\n",
    "weight1[\"N\"] = weight1.apply(lambda row: sum(row[0:6]==\"N\") ,axis=1)\n",
    "weight1[\"D\"] = weight1.apply(lambda row: sum(row[0:6]==\"D\") ,axis=1)\n",
    "weight1[\"SD\"] = weight1.apply(lambda row: sum(row[0:6]==\"SD\") ,axis=1)\n",
    "\n",
    "weight1_ctr=weight1[['SA','A','N','D','SD']]\n",
    "weight1_ctr\n",
    "\n",
    "totalweight=weight1_ctr+weight2_ctr\n",
    "#totalweight\n",
    "\n",
    "#Score, accuracy, certainty\n",
    "\n",
    "#normalize totalweight\n",
    "totalweight/=20\n",
    "\n",
    "totalweight[\"Score\"]=(totalweight[\"SA\"]+totalweight[\"A\"]+1-totalweight[\"N\"]+1-(totalweight[\"SD\"]+totalweight[\"D\"]))/5\n",
    "totalweight[\"Accuracy\"]=totalweight[\"SA\"]-totalweight[\"SD\"]\n",
    "totalweight[\"Certainty\"]=totalweight[\"SA\"]\n",
    "\n",
    "#totalweight[\"SAC\"]=totalweight[\"Certainty\"]+"
   ]
  },
  {
   "cell_type": "code",
   "execution_count": 102,
   "id": "239be424",
   "metadata": {},
   "outputs": [],
   "source": [
    "#label\n",
    "\n",
    "label=[]\n",
    "\n",
    "for i in totalweight[\"Score\"]:\n",
    "    if i<0.34:\n",
    "        label.append(\"Yes\")\n",
    "    else:\n",
    "        label.append(\"No\")\n",
    "\n",
    "totalweight[\"Label\"]=label"
   ]
  },
  {
   "cell_type": "code",
   "execution_count": 8,
   "id": "aa62d0ce",
   "metadata": {
    "scrolled": true
   },
   "outputs": [
    {
     "data": {
      "text/plain": [
       "0.7"
      ]
     },
     "execution_count": 8,
     "metadata": {},
     "output_type": "execute_result"
    }
   ],
   "source": [
    "totalweight[\"Certainty\"].max()"
   ]
  },
  {
   "cell_type": "code",
   "execution_count": 9,
   "id": "e572c234",
   "metadata": {},
   "outputs": [],
   "source": [
    "#totalweight.to_csv('Corrected score with label.csv')"
   ]
  },
  {
   "cell_type": "code",
   "execution_count": 10,
   "id": "7a32b19e",
   "metadata": {},
   "outputs": [
    {
     "data": {
      "text/html": [
       "<div>\n",
       "<style scoped>\n",
       "    .dataframe tbody tr th:only-of-type {\n",
       "        vertical-align: middle;\n",
       "    }\n",
       "\n",
       "    .dataframe tbody tr th {\n",
       "        vertical-align: top;\n",
       "    }\n",
       "\n",
       "    .dataframe thead th {\n",
       "        text-align: right;\n",
       "    }\n",
       "</style>\n",
       "<table border=\"1\" class=\"dataframe\">\n",
       "  <thead>\n",
       "    <tr style=\"text-align: right;\">\n",
       "      <th></th>\n",
       "      <th>A</th>\n",
       "      <th>D</th>\n",
       "      <th>N</th>\n",
       "    </tr>\n",
       "  </thead>\n",
       "  <tbody>\n",
       "    <tr>\n",
       "      <th>0</th>\n",
       "      <td>0.15</td>\n",
       "      <td>0.60</td>\n",
       "      <td>0.25</td>\n",
       "    </tr>\n",
       "    <tr>\n",
       "      <th>1</th>\n",
       "      <td>0.30</td>\n",
       "      <td>0.60</td>\n",
       "      <td>0.10</td>\n",
       "    </tr>\n",
       "    <tr>\n",
       "      <th>2</th>\n",
       "      <td>0.20</td>\n",
       "      <td>0.55</td>\n",
       "      <td>0.25</td>\n",
       "    </tr>\n",
       "    <tr>\n",
       "      <th>3</th>\n",
       "      <td>0.70</td>\n",
       "      <td>0.10</td>\n",
       "      <td>0.20</td>\n",
       "    </tr>\n",
       "    <tr>\n",
       "      <th>4</th>\n",
       "      <td>0.15</td>\n",
       "      <td>0.70</td>\n",
       "      <td>0.15</td>\n",
       "    </tr>\n",
       "    <tr>\n",
       "      <th>...</th>\n",
       "      <td>...</td>\n",
       "      <td>...</td>\n",
       "      <td>...</td>\n",
       "    </tr>\n",
       "    <tr>\n",
       "      <th>195</th>\n",
       "      <td>0.15</td>\n",
       "      <td>0.60</td>\n",
       "      <td>0.25</td>\n",
       "    </tr>\n",
       "    <tr>\n",
       "      <th>196</th>\n",
       "      <td>0.35</td>\n",
       "      <td>0.60</td>\n",
       "      <td>0.05</td>\n",
       "    </tr>\n",
       "    <tr>\n",
       "      <th>197</th>\n",
       "      <td>0.25</td>\n",
       "      <td>0.50</td>\n",
       "      <td>0.25</td>\n",
       "    </tr>\n",
       "    <tr>\n",
       "      <th>198</th>\n",
       "      <td>0.30</td>\n",
       "      <td>0.45</td>\n",
       "      <td>0.25</td>\n",
       "    </tr>\n",
       "    <tr>\n",
       "      <th>199</th>\n",
       "      <td>0.50</td>\n",
       "      <td>0.35</td>\n",
       "      <td>0.15</td>\n",
       "    </tr>\n",
       "  </tbody>\n",
       "</table>\n",
       "<p>200 rows × 3 columns</p>\n",
       "</div>"
      ],
      "text/plain": [
       "        A     D     N\n",
       "0    0.15  0.60  0.25\n",
       "1    0.30  0.60  0.10\n",
       "2    0.20  0.55  0.25\n",
       "3    0.70  0.10  0.20\n",
       "4    0.15  0.70  0.15\n",
       "..    ...   ...   ...\n",
       "195  0.15  0.60  0.25\n",
       "196  0.35  0.60  0.05\n",
       "197  0.25  0.50  0.25\n",
       "198  0.30  0.45  0.25\n",
       "199  0.50  0.35  0.15\n",
       "\n",
       "[200 rows x 3 columns]"
      ]
     },
     "execution_count": 10,
     "metadata": {},
     "output_type": "execute_result"
    }
   ],
   "source": [
    "#3 variable dataframe is reducedtotalweight\n",
    "#5 variable dataframe is totalweight\n",
    "\n",
    "reducedtotalweight=pd.DataFrame()\n",
    "\n",
    "reducedtotalweight[\"Agree\"] = totalweight[\"SA\"] + totalweight[\"A\"]\n",
    "reducedtotalweight[\"Disagree\"] = totalweight[\"SD\"] + totalweight[\"D\"]\n",
    "reducedtotalweight[\"N\"] = totalweight[\"N\"] \n",
    "\n",
    "reducedtotalweight.rename(columns = {'Agree':'A', 'N':'N','Disagree':'D'},inplace=True)\n",
    "reducedtotalweight"
   ]
  },
  {
   "cell_type": "code",
   "execution_count": 11,
   "id": "745a4352",
   "metadata": {},
   "outputs": [],
   "source": [
    "#KMEANS\n",
    "\n",
    "import statsmodels.api as sm\n",
    "import matplotlib.pyplot as plt\n",
    "import seaborn as sns\n",
    "sns.set()\n",
    "from sklearn.cluster import KMeans\n",
    "#%matplotlib widget\n"
   ]
  },
  {
   "cell_type": "code",
   "execution_count": 12,
   "id": "4ed6b9a9",
   "metadata": {},
   "outputs": [
    {
     "name": "stdout",
     "output_type": "stream",
     "text": [
      "[0 0 0 1 0 0 0 1 1 0 2 2 2 1 2 1 1 1 2 1 2 0 2 1 1 2 0 1 2 0 0 1 2 2 1 0 2\n",
      " 0 0 1 2 2 1 0 0 1 1 0 1 2 2 2 0 2 2 1 2 1 0 0 1 0 0 1 2 1 0 1 1 2 0 1 2 1\n",
      " 0 2 0 2 1 2 1 2 1 1 1 2 2 0 2 1 0 1 1 1 0 2 0 2 2 1 0 1 1 2 0 0 0 0 0 1 2\n",
      " 0 2 2 1 1 2 0 1 1 1 1 2 1 1 2 2 1 0 0 2 2 0 1 1 0 2 0 1 0 2 1 1 1 1 2 2 0\n",
      " 1 1 1 1 0 1 1 2 2 0 1 2 0 1 0 1 0 2 0 2 0 0 1 2 2 0 1 1 0 0 0 2 2 2 2 0 0\n",
      " 2 1 2 2 1 0 2 0 0 0 0 0 0 0 1]\n"
     ]
    }
   ],
   "source": [
    "final=reducedtotalweight\n",
    "k_means_optimum = KMeans(n_clusters = 3, init = 'k-means++',  random_state=42)\n",
    "y = k_means_optimum.fit_predict(final)\n",
    "print(y)"
   ]
  },
  {
   "cell_type": "code",
   "execution_count": 13,
   "id": "5eb583f8",
   "metadata": {},
   "outputs": [],
   "source": [
    "final['cluster'] = y  \n",
    "# the above step adds extra column indicating the cluster number\n",
    "\n",
    "final1 = final[final.cluster==0]\n",
    "final2 = final[final.cluster==1]\n",
    "final3 = final[final.cluster==2]\n",
    "\n",
    "#display(final)"
   ]
  },
  {
   "cell_type": "code",
   "execution_count": 14,
   "id": "a3c9e3c4",
   "metadata": {},
   "outputs": [
    {
     "data": {
      "image/png": "[encoded data removed]",
      "text/plain": [
       "<Figure size 432x288 with 1 Axes>"
      ]
     },
     "metadata": {},
     "output_type": "display_data"
    }
   ],
   "source": [
    "# plotting\n",
    "\n",
    "xline = np.linspace(0, 0.5,num=100,endpoint=False)\n",
    "yline = np.linspace(0, 0.5,num=100,endpoint=False)\n",
    "zline = np.linspace(0, 0.5,num=100,endpoint=False)\n",
    "\n",
    "\n",
    "# Data for three-dimensional scattered points\n",
    "kplot = plt.axes(projection='3d')\n",
    "plt.ion()\n",
    "kplot.scatter3D(final1.A, final1.N, final1.D,c='red', label = 'Cluster 0')\n",
    "kplot.scatter3D(final2.A, final2.N, final2.D, c ='blue', label = 'Cluster 1')\n",
    "kplot.scatter3D(final3.A, final3.N, final3.D,c ='green', label = 'Cluster 2')\n",
    "\n",
    "plt.legend()\n",
    "plt.title(\"Kmeans\")\n",
    "plt.show()"
   ]
  },
  {
   "cell_type": "code",
   "execution_count": 15,
   "id": "a73969e8",
   "metadata": {},
   "outputs": [],
   "source": [
    "#EDA\n",
    "#pie chart for gender-M,F,non labelled\n",
    "#no. of missing values and other related statistics\n",
    "#outliers for each of SA,A,etc\n",
    "#"
   ]
  },
  {
   "cell_type": "code",
   "execution_count": 16,
   "id": "fa63926e",
   "metadata": {},
   "outputs": [
    {
     "name": "stdout",
     "output_type": "stream",
     "text": [
      "Counter({'M': 131, 'F': 41, 'N': 28})\n"
     ]
    }
   ],
   "source": [
    "#pie chart for gender-M,F,non labelled\n",
    "#plt.pie(my_data,labels=my_labels,autopct='%1.1f%%')\n",
    "from collections import Counter\n",
    "import matplotlib.ticker as ticker\n",
    "import matplotlib.cm as cm\n",
    "import matplotlib as mpl\n",
    "from matplotlib.gridspec import GridSpec\n",
    "import matplotlib.pyplot as plt\n",
    "\n",
    "print(Counter(i_df['gender']))\n",
    "#adding a row number column\n",
    "i_df['row_num'] = np.arange(len(i_df))\n",
    "#grouping our data by the number of values for each gender\n",
    "gender = i_df.groupby('gender').agg('count')\n",
    "#sorting indices and counts\n",
    "gender_labels = gender.row_num.sort_values().index \n",
    "gender_counts = gender.row_num.sort_values()"
   ]
  },
  {
   "cell_type": "code",
   "execution_count": 17,
   "id": "28da5c90",
   "metadata": {},
   "outputs": [
    {
     "data": {
      "image/png": "[encoded data removed]",
      "text/plain": [
       "<Figure size 1440x720 with 1 Axes>"
      ]
     },
     "metadata": {},
     "output_type": "display_data"
    }
   ],
   "source": [
    "#specifications \n",
    "plt.figure(1, figsize=(20,10)) \n",
    "the_grid = GridSpec(2, 2)\n",
    "cmap = plt.get_cmap('Set3')\n",
    "colors = [cmap(i) for i in np.linspace(0, 1, 8)]\n",
    "#plotting\n",
    "plt.subplot(the_grid[0, 1], aspect=1, title='Gender of the Subjects')\n",
    "gender_show_ids = plt.pie(gender_counts, labels=gender_labels, autopct='%1.1f%%', shadow=True, colors=colors)\n",
    "plt.show()"
   ]
  },
  {
   "cell_type": "code",
   "execution_count": 18,
   "id": "7f89ba05",
   "metadata": {},
   "outputs": [
    {
     "data": {
      "text/plain": [
       "Unnamed: 0                0\n",
       "Gender                   28\n",
       "Age                      30\n",
       "success                   0\n",
       "many ineptness            1\n",
       "if anybody can            2\n",
       "agonize                   6\n",
       "perfect                   0\n",
       "rare ineptness            1\n",
       "incompetent               0\n",
       "compare                   0\n",
       "luck not hard work        1\n",
       "shortcut                  0\n",
       "trust                     0\n",
       "expectations              0\n",
       "perfectionist             0\n",
       "domestic                  0\n",
       "enjoy activity            3\n",
       "means                     1\n",
       "compliment                0\n",
       "stroke of luck            2\n",
       "IQ score                  1\n",
       "EQ                        0\n",
       "no compliments            2\n",
       "not imp                   0\n",
       "place not judged          1\n",
       "comfort.home              0\n",
       "comfort.college           0\n",
       "comfort.friends           0\n",
       "comfort.work              0\n",
       "comfort.online            0\n",
       "comfort.alterego          0\n",
       "place judged              9\n",
       "letting people down      16\n",
       "post covid confidence    13\n",
       "dtype: int64"
      ]
     },
     "execution_count": 18,
     "metadata": {},
     "output_type": "execute_result"
    }
   ],
   "source": [
    "#no. of missing values\n",
    "df.isnull().sum()\n",
    "#we converted all the missing values to a neutral"
   ]
  },
  {
   "cell_type": "code",
   "execution_count": 157,
   "id": "d513d5c3",
   "metadata": {},
   "outputs": [
    {
     "data": {
      "text/html": [
       "<div>\n",
       "<style scoped>\n",
       "    .dataframe tbody tr th:only-of-type {\n",
       "        vertical-align: middle;\n",
       "    }\n",
       "\n",
       "    .dataframe tbody tr th {\n",
       "        vertical-align: top;\n",
       "    }\n",
       "\n",
       "    .dataframe thead th {\n",
       "        text-align: right;\n",
       "    }\n",
       "</style>\n",
       "<table border=\"1\" class=\"dataframe\">\n",
       "  <thead>\n",
       "    <tr style=\"text-align: right;\">\n",
       "      <th></th>\n",
       "      <th>SA</th>\n",
       "      <th>A</th>\n",
       "      <th>N</th>\n",
       "      <th>D</th>\n",
       "      <th>SD</th>\n",
       "      <th>row_num</th>\n",
       "    </tr>\n",
       "  </thead>\n",
       "  <tbody>\n",
       "    <tr>\n",
       "      <th>count</th>\n",
       "      <td>200.000000</td>\n",
       "      <td>200.000000</td>\n",
       "      <td>200.000000</td>\n",
       "      <td>200.000000</td>\n",
       "      <td>200.000000</td>\n",
       "      <td>200.000000</td>\n",
       "    </tr>\n",
       "    <tr>\n",
       "      <th>mean</th>\n",
       "      <td>0.095250</td>\n",
       "      <td>0.233000</td>\n",
       "      <td>0.183750</td>\n",
       "      <td>0.177250</td>\n",
       "      <td>0.060750</td>\n",
       "      <td>99.500000</td>\n",
       "    </tr>\n",
       "    <tr>\n",
       "      <th>std</th>\n",
       "      <td>0.108159</td>\n",
       "      <td>0.120243</td>\n",
       "      <td>0.116258</td>\n",
       "      <td>0.116997</td>\n",
       "      <td>0.089229</td>\n",
       "      <td>57.879185</td>\n",
       "    </tr>\n",
       "    <tr>\n",
       "      <th>min</th>\n",
       "      <td>0.000000</td>\n",
       "      <td>0.000000</td>\n",
       "      <td>0.000000</td>\n",
       "      <td>0.000000</td>\n",
       "      <td>0.000000</td>\n",
       "      <td>0.000000</td>\n",
       "    </tr>\n",
       "    <tr>\n",
       "      <th>25%</th>\n",
       "      <td>0.000000</td>\n",
       "      <td>0.150000</td>\n",
       "      <td>0.100000</td>\n",
       "      <td>0.100000</td>\n",
       "      <td>0.000000</td>\n",
       "      <td>49.750000</td>\n",
       "    </tr>\n",
       "    <tr>\n",
       "      <th>50%</th>\n",
       "      <td>0.050000</td>\n",
       "      <td>0.250000</td>\n",
       "      <td>0.200000</td>\n",
       "      <td>0.150000</td>\n",
       "      <td>0.000000</td>\n",
       "      <td>99.500000</td>\n",
       "    </tr>\n",
       "    <tr>\n",
       "      <th>75%</th>\n",
       "      <td>0.150000</td>\n",
       "      <td>0.300000</td>\n",
       "      <td>0.250000</td>\n",
       "      <td>0.250000</td>\n",
       "      <td>0.100000</td>\n",
       "      <td>149.250000</td>\n",
       "    </tr>\n",
       "    <tr>\n",
       "      <th>max</th>\n",
       "      <td>0.500000</td>\n",
       "      <td>0.600000</td>\n",
       "      <td>0.550000</td>\n",
       "      <td>0.500000</td>\n",
       "      <td>0.500000</td>\n",
       "      <td>199.000000</td>\n",
       "    </tr>\n",
       "  </tbody>\n",
       "</table>\n",
       "</div>"
      ],
      "text/plain": [
       "               SA           A           N           D          SD     row_num\n",
       "count  200.000000  200.000000  200.000000  200.000000  200.000000  200.000000\n",
       "mean     0.095250    0.233000    0.183750    0.177250    0.060750   99.500000\n",
       "std      0.108159    0.120243    0.116258    0.116997    0.089229   57.879185\n",
       "min      0.000000    0.000000    0.000000    0.000000    0.000000    0.000000\n",
       "25%      0.000000    0.150000    0.100000    0.100000    0.000000   49.750000\n",
       "50%      0.050000    0.250000    0.200000    0.150000    0.000000   99.500000\n",
       "75%      0.150000    0.300000    0.250000    0.250000    0.100000  149.250000\n",
       "max      0.500000    0.600000    0.550000    0.500000    0.500000  199.000000"
      ]
     },
     "execution_count": 157,
     "metadata": {},
     "output_type": "execute_result"
    }
   ],
   "source": [
    "#summary statistics\n",
    "totalweight.describe() #why does A have 0.75?\n",
    "#can we come to any conclusions from this?"
   ]
  },
  {
   "cell_type": "code",
   "execution_count": 163,
   "id": "8461d636",
   "metadata": {
    "scrolled": true
   },
   "outputs": [
    {
     "data": {
      "text/html": [
       "<div>\n",
       "<style scoped>\n",
       "    .dataframe tbody tr th:only-of-type {\n",
       "        vertical-align: middle;\n",
       "    }\n",
       "\n",
       "    .dataframe tbody tr th {\n",
       "        vertical-align: top;\n",
       "    }\n",
       "\n",
       "    .dataframe thead th {\n",
       "        text-align: right;\n",
       "    }\n",
       "</style>\n",
       "<table border=\"1\" class=\"dataframe\">\n",
       "  <thead>\n",
       "    <tr style=\"text-align: right;\">\n",
       "      <th></th>\n",
       "      <th>Gender</th>\n",
       "      <th>row_num</th>\n",
       "      <th>SA</th>\n",
       "      <th>A</th>\n",
       "      <th>N</th>\n",
       "      <th>D</th>\n",
       "      <th>SD</th>\n",
       "    </tr>\n",
       "  </thead>\n",
       "  <tbody>\n",
       "    <tr>\n",
       "      <th>0</th>\n",
       "      <td>F</td>\n",
       "      <td>0</td>\n",
       "      <td>0.10</td>\n",
       "      <td>0.05</td>\n",
       "      <td>0.25</td>\n",
       "      <td>0.15</td>\n",
       "      <td>0.20</td>\n",
       "    </tr>\n",
       "    <tr>\n",
       "      <th>1</th>\n",
       "      <td>M</td>\n",
       "      <td>1</td>\n",
       "      <td>0.00</td>\n",
       "      <td>0.30</td>\n",
       "      <td>0.10</td>\n",
       "      <td>0.25</td>\n",
       "      <td>0.10</td>\n",
       "    </tr>\n",
       "    <tr>\n",
       "      <th>2</th>\n",
       "      <td>M</td>\n",
       "      <td>2</td>\n",
       "      <td>0.05</td>\n",
       "      <td>0.10</td>\n",
       "      <td>0.25</td>\n",
       "      <td>0.35</td>\n",
       "      <td>0.00</td>\n",
       "    </tr>\n",
       "    <tr>\n",
       "      <th>3</th>\n",
       "      <td>M</td>\n",
       "      <td>3</td>\n",
       "      <td>0.00</td>\n",
       "      <td>0.55</td>\n",
       "      <td>0.10</td>\n",
       "      <td>0.10</td>\n",
       "      <td>0.00</td>\n",
       "    </tr>\n",
       "    <tr>\n",
       "      <th>4</th>\n",
       "      <td>M</td>\n",
       "      <td>4</td>\n",
       "      <td>0.00</td>\n",
       "      <td>0.10</td>\n",
       "      <td>0.15</td>\n",
       "      <td>0.30</td>\n",
       "      <td>0.20</td>\n",
       "    </tr>\n",
       "    <tr>\n",
       "      <th>...</th>\n",
       "      <td>...</td>\n",
       "      <td>...</td>\n",
       "      <td>...</td>\n",
       "      <td>...</td>\n",
       "      <td>...</td>\n",
       "      <td>...</td>\n",
       "      <td>...</td>\n",
       "    </tr>\n",
       "    <tr>\n",
       "      <th>195</th>\n",
       "      <td>M</td>\n",
       "      <td>195</td>\n",
       "      <td>0.00</td>\n",
       "      <td>0.10</td>\n",
       "      <td>0.25</td>\n",
       "      <td>0.35</td>\n",
       "      <td>0.05</td>\n",
       "    </tr>\n",
       "    <tr>\n",
       "      <th>196</th>\n",
       "      <td>M</td>\n",
       "      <td>196</td>\n",
       "      <td>0.05</td>\n",
       "      <td>0.15</td>\n",
       "      <td>0.05</td>\n",
       "      <td>0.15</td>\n",
       "      <td>0.35</td>\n",
       "    </tr>\n",
       "    <tr>\n",
       "      <th>197</th>\n",
       "      <td>F</td>\n",
       "      <td>197</td>\n",
       "      <td>0.05</td>\n",
       "      <td>0.15</td>\n",
       "      <td>0.15</td>\n",
       "      <td>0.30</td>\n",
       "      <td>0.10</td>\n",
       "    </tr>\n",
       "    <tr>\n",
       "      <th>198</th>\n",
       "      <td>M</td>\n",
       "      <td>198</td>\n",
       "      <td>0.05</td>\n",
       "      <td>0.15</td>\n",
       "      <td>0.25</td>\n",
       "      <td>0.30</td>\n",
       "      <td>0.00</td>\n",
       "    </tr>\n",
       "    <tr>\n",
       "      <th>199</th>\n",
       "      <td>F</td>\n",
       "      <td>199</td>\n",
       "      <td>0.05</td>\n",
       "      <td>0.45</td>\n",
       "      <td>0.10</td>\n",
       "      <td>0.10</td>\n",
       "      <td>0.05</td>\n",
       "    </tr>\n",
       "  </tbody>\n",
       "</table>\n",
       "<p>200 rows × 7 columns</p>\n",
       "</div>"
      ],
      "text/plain": [
       "    Gender  row_num    SA     A     N     D    SD\n",
       "0        F        0  0.10  0.05  0.25  0.15  0.20\n",
       "1        M        1  0.00  0.30  0.10  0.25  0.10\n",
       "2        M        2  0.05  0.10  0.25  0.35  0.00\n",
       "3        M        3  0.00  0.55  0.10  0.10  0.00\n",
       "4        M        4  0.00  0.10  0.15  0.30  0.20\n",
       "..     ...      ...   ...   ...   ...   ...   ...\n",
       "195      M      195  0.00  0.10  0.25  0.35  0.05\n",
       "196      M      196  0.05  0.15  0.05  0.15  0.35\n",
       "197      F      197  0.05  0.15  0.15  0.30  0.10\n",
       "198      M      198  0.05  0.15  0.25  0.30  0.00\n",
       "199      F      199  0.05  0.45  0.10  0.10  0.05\n",
       "\n",
       "[200 rows x 7 columns]"
      ]
     },
     "execution_count": 163,
     "metadata": {},
     "output_type": "execute_result"
    }
   ],
   "source": [
    "df.drop(df.iloc[:, 2:], inplace = True, axis = 1)\n",
    "df['row_num'] = np.arange(len(df))\n",
    "totalweight.drop(totalweight.iloc[:,5:], inplace = True, axis = 1)\n",
    "totalweight['row_num'] = np.arange(len(totalweight))\n",
    "#performing join of the gender column in df and toatlweight column using row_num\n",
    "join1=pd.merge(df,totalweight,on='row_num',how='inner')\n",
    "\n",
    "#dropping unnecsary colmns\n",
    "join1.drop(labels=['row_num'], axis=1)\n",
    "join1.drop(join1.iloc[:,:1], inplace = True, axis = 1)\n",
    "join1"
   ]
  },
  {
   "cell_type": "code",
   "execution_count": 159,
   "id": "9355b4c2",
   "metadata": {},
   "outputs": [],
   "source": [
    "X = join1.iloc[:, 1:25].values\n",
    "y = join1.iloc[:, 1].values\n",
    "\n",
    "# Splitting the dataset into the Training set and Test set\n",
    "from sklearn.model_selection import train_test_split\n",
    "X_train, X_test, y_train, y_test = train_test_split(X, y, test_size = 0.20, random_state = 0)\n",
    "\n",
    "# Feature Scaling\n",
    "from sklearn.preprocessing import StandardScaler\n",
    "sc = StandardScaler()\n",
    "X_train = sc.fit_transform(X_train)\n",
    "X_test = sc.transform(X_test)\n",
    "\n",
    "# Training the Naive Bayes model on the Training set\n",
    "from sklearn.naive_bayes import GaussianNB\n",
    "classifier = GaussianNB()\n",
    "classifier.fit(X_train, y_train)\n",
    "\n",
    "# Predicting the Test set results\n",
    "y_pred = classifier.predict(X_test)"
   ]
  },
  {
   "cell_type": "code",
   "execution_count": 160,
   "id": "746c468e",
   "metadata": {},
   "outputs": [
    {
     "data": {
      "text/plain": [
       "array([ 32, 158, 113,  97, 164, 174,   2, 140,  19, 157,  43,  97, 181,\n",
       "       133, 109,  59,  53, 174,  49, 105, 199, 165,  35, 148,  23, 101,\n",
       "       167, 187, 110,  91,  25,  62, 157, 134,  20, 171, 162,  35,  59,\n",
       "       118])"
      ]
     },
     "execution_count": 160,
     "metadata": {},
     "output_type": "execute_result"
    }
   ],
   "source": [
    "y_pred"
   ]
  }
 ],
 "metadata": {
  "kernelspec": {
   "display_name": "Python 3 (ipykernel)",
   "language": "python",
   "name": "python3"
  },
  "language_info": {
   "codemirror_mode": {
    "name": "ipython",
    "version": 3
   },
   "file_extension": ".py",
   "mimetype": "text/x-python",
   "name": "python",
   "nbconvert_exporter": "python",
   "pygments_lexer": "ipython3",
   "version": "3.9.7"
  }
 },
 "nbformat": 4,
 "nbformat_minor": 5
}
