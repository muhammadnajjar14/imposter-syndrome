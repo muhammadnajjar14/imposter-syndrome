{
 "cells": [
  {
   "cell_type": "code",
   "execution_count": 1,
   "id": "2efefd13",
   "metadata": {},
   "outputs": [],
   "source": [
    "#https://raw.githubusercontent.com/riyaeliza123/imposter-syndrome/main/Imposter%20Syndrome%20csv.csv\n",
    "\n",
    "import pandas as pd\n",
    "import numpy as np\n"
   ]
  },
  {
   "cell_type": "code",
   "execution_count": 2,
   "id": "14bbb75f",
   "metadata": {},
   "outputs": [
    {
     "name": "stderr",
     "output_type": "stream",
     "text": [
      "C:\\Users\\hp\\AppData\\Local\\Temp/ipykernel_2848/116165059.py:3: FutureWarning: In a future version of pandas all arguments of DataFrame.drop except for the argument 'labels' will be keyword-only\n",
      "  df = df.drop('S.NO.', 1)\n"
     ]
    }
   ],
   "source": [
    "df = pd.read_csv('https://raw.githubusercontent.com/riyaeliza123/imposter-syndrome/main/Imposter%20Syndrome%20csv.csv')\n",
    "#df\n",
    "df = df.drop('S.NO.', 1)\n",
    "#renaming columns for easy reference\n",
    "df.rename(columns = {'Do you chalk your success up to fates, luck or\\nerror?':'success', \n",
    "                     'Many times, you feel crushed by constructive criticism, seeing it as evidence of your \"ineptness\"?':'many ineptness',\n",
    "                     'Do you believe \"If I can do it, anybody can\"?':'if anybody can',\n",
    "                     'Do you agonize over the smallest flaws in your work?':'agonize',\n",
    "                     'Do you believe that everything you do must be completely perfect?':'perfect',\n",
    "                     'In rare cases you feel crushed by constructive criticism, seeing it evidence of your \"ineptness\"?':'rare ineptness',\n",
    "                     'Do you feel incompetent despite attaining success?':'incompetent',\n",
    "                     'You compare your abilities to people around you and think that others may be more intelligent than you.':'compare',\n",
    "                     'You blame your luck for success rather than hard work':'luck not hard work',\n",
    "                     'Do you think shortcut to success makes you smarter':'shortcut',\n",
    "                     'Do you often fear not meeting other people\\'s expectations?':'expectations',\n",
    "                     'I am a perfectionist':'perfectionist',\n",
    "                     'Do you feel like a non-valuable member of the family if you don\\'t participate in domestic work?':'domestic',\n",
    "                     '\"I have to be good at a particular activity to enjoy it\" (As in, if you picked up a new hobby like painting, the only way you feel good about doing it is if you are using perfect techniques and doing it the \"right\" way)':'enjoy activity',\n",
    "                     'I believe that means is more important than the ends':'means',\n",
    "                     'When people compliment you, you think you are not as accomplished as they think':'compliment',\n",
    "                     'Most of your success has been a stroke of luck':'stroke of luck',\n",
    "                     'You have an above-average IQ score':'IQ score',\n",
    "                     'Your emotional quotient is better than your general IQ score':'EQ',\n",
    "                     'You downplay compliments from others.':'no compliments',\n",
    "                     'Do you feel like an unimportant family member if you don\\'t involve in decision-making process?':'not imp',\n",
    "                     'Which places do you think you can be yourself without being judged?':'place not judged',\n",
    "                     'What places do you think you pretend to be someone you are not?':'place judged',\n",
    "                     'At least 70% of individuals have dissatisfaction in their lives. Women mostly face self-image issues and in men, it is driven by the fear of not being successful or letting people down. Do you agree with this? And in your experience, how have you seen variances to the mentioned scenarios?':'letting people down',\n",
    "                     'As the campus has reopened after conducting classes, examinations, and project reviews online over the past 2 years, do you feel that this might bring up changes in confidence levels, due to the adjustments which may have arisen doubts in self-esteem from the initial change of method?':'post covid confidence',\n",
    "                     'You have doubts about your abilities despite people around you trusting you.':'trust'\n",
    "\n",
    "                        }, inplace = True)\n",
    "\n",
    "#df\n",
    "\n",
    "#preprocessing\n",
    "#in the comfort percentage, change all NA to 0\n",
    "#df1=df[0:5]  #first 6 rows\n",
    "\n",
    "df.update(df[['comfort.home','comfort.college','comfort.friends', 'comfort.work','comfort.online', 'comfort.alterego']].fillna('0'))\n",
    "#df"
   ]
  },
  {
   "cell_type": "code",
   "execution_count": 25,
   "id": "3d48809c",
   "metadata": {},
   "outputs": [],
   "source": [
    "from vaderSentiment.vaderSentiment import SentimentIntensityAnalyzer"
   ]
  },
  {
   "cell_type": "code",
   "execution_count": 3,
   "id": "aafc4b8e",
   "metadata": {},
   "outputs": [],
   "source": [
    "#pass sentence, returns pos/neg\n",
    "#take each sentence, add all pos, neu and neg and finally give overall sentiment per gender\n",
    "#make 2 datasets (m,f) and do sentiment analysis\n",
    "\n",
    "dfmale = df[df['Gender'] == 'M']\n",
    "#print (dfmale)\n",
    "dffemale = df[df['Gender'] == 'F']\n",
    "#dffemale"
   ]
  },
  {
   "cell_type": "code",
   "execution_count": 27,
   "id": "02a5cc03",
   "metadata": {},
   "outputs": [],
   "source": [
    "# function to print sentiments of the sentence.\n",
    "comp=[]\n",
    "def sentiment_scores(sentence):\n",
    " \n",
    "    sid_obj = SentimentIntensityAnalyzer()\n",
    "    \n",
    "    sentiment_dict = sid_obj.polarity_scores(sentence) #polarity_scores is predefined, contains neg, neu and pos\n",
    "    comp.append(sentiment_dict['compound'])\n",
    "    return comp"
   ]
  },
  {
   "cell_type": "code",
   "execution_count": 28,
   "id": "7022ee0d",
   "metadata": {},
   "outputs": [],
   "source": [
    "#sentiment_scores(df. iat[0,0])\n",
    "def find_comp(df):\n",
    "    letpep=df.astype(str)\n",
    "    for i in letpep:\n",
    "        sentiment_scores(i)\n",
    "    \n",
    "    meancomp=np.mean(comp)\n",
    "    print(meancomp)\n",
    "    # decide sentiment as positive, negative and neutral\n",
    "    if meancomp >= 0.05 :\n",
    "        print(\"Positive\")\n",
    "    elif meancomp<= - 0.05 :\n",
    "        print(\"Negative\")\n",
    "    else :\n",
    "        print(\"Neutral\")\n",
    "\n",
    "    "
   ]
  },
  {
   "cell_type": "code",
   "execution_count": 29,
   "id": "66128006",
   "metadata": {},
   "outputs": [
    {
     "name": "stdout",
     "output_type": "stream",
     "text": [
      "0.14915419847328243\n",
      "Positive\n"
     ]
    }
   ],
   "source": [
    "find_comp(dfmale['letting people down'])"
   ]
  },
  {
   "cell_type": "code",
   "execution_count": 30,
   "id": "954504f3",
   "metadata": {},
   "outputs": [
    {
     "name": "stdout",
     "output_type": "stream",
     "text": [
      "0.26894312977099233\n",
      "Positive\n"
     ]
    }
   ],
   "source": [
    "find_comp(dfmale['post covid confidence'])"
   ]
  },
  {
   "cell_type": "code",
   "execution_count": 31,
   "id": "73e02c61",
   "metadata": {},
   "outputs": [
    {
     "name": "stdout",
     "output_type": "stream",
     "text": [
      "0.2545841584158416\n",
      "Positive\n"
     ]
    }
   ],
   "source": [
    "find_comp(dffemale['letting people down'])"
   ]
  },
  {
   "cell_type": "code",
   "execution_count": 32,
   "id": "52ada6cd",
   "metadata": {},
   "outputs": [
    {
     "name": "stdout",
     "output_type": "stream",
     "text": [
      "0.25808081395348836\n",
      "Positive\n"
     ]
    }
   ],
   "source": [
    "find_comp(dffemale['post covid confidence'])"
   ]
  },
  {
   "cell_type": "code",
   "execution_count": 3,
   "id": "eafe2d22",
   "metadata": {},
   "outputs": [],
   "source": [
    "#CONVERT THE DATASET - Left affinity on scale shows imposter syndrome (Q 3-25)\n",
    "#convert 8,12,18\n",
    "#ignore 16,25 - gender roles related\n",
    "\n",
    "#8\n",
    "df['rare ineptness'] = df['rare ineptness'].replace(['SA','A','D','SD'],['SD','D','A','SA'])\n",
    "\n",
    "#12\n",
    "df['shortcut'] = df['shortcut'].replace(['SA','A','D','SD'],['SD','D','A','SA'])\n",
    "\n",
    "#18\n",
    "df['means'] = df['means'].replace(['SA','A','D','SD'],['SD','D','A','SA'])\n",
    "\n",
    "#Select relevent columns\n",
    "imposter_df=df.iloc[:,0:24]\n",
    "#remove irrelevent cols\n",
    "imposter_df.drop(columns=['domestic','not imp'],inplace=True)\n",
    "#df.rename(columns = {'You have doubts about your abilities despite people around you trusting you.':'trust'}, inplace = True)\n",
    "#imposter_df\n",
    "df.to_csv('impostor.csv')"
   ]
  },
  {
   "cell_type": "code",
   "execution_count": 4,
   "id": "deaa9b12",
   "metadata": {},
   "outputs": [],
   "source": [
    "i_df=imposter_df\n",
    "i_df=i_df.drop(['Age'], axis = 1)\n",
    "#display(i_df)"
   ]
  },
  {
   "cell_type": "code",
   "execution_count": 5,
   "id": "299aa75c",
   "metadata": {},
   "outputs": [],
   "source": [
    "i_df['Gender'] = i_df['Gender'].replace({'F': 0})\n",
    "i_df['Gender'] = i_df['Gender'].replace({'M': 1})\n",
    "for i in i_df:\n",
    "    i_df[i] = i_df[i].replace({'SD': 1})\n",
    "    i_df[i] = i_df[i].replace({'D': 2})\n",
    "    i_df[i] = i_df[i].replace({'D ': 2})\n",
    "    i_df[i] = i_df[i].replace({'N': 3})\n",
    "    i_df[i] = i_df[i].replace({'A': 4})\n",
    "    i_df[i] = i_df[i].replace({'SA': 5})\n",
    "    i_df[i] = i_df[i].replace({'DS': 1})\n",
    "    i_df[i] = i_df[i].replace({'A ': 4})\n",
    "    i_df[i] = i_df[i].replace({' D': 2})\n",
    "    i_df[i] = i_df[i].replace({'SA ': 5})\n",
    "    i_df[i] = i_df[i].replace({'SF': 1})\n",
    "    i_df[i] = i_df[i].replace({'N ': 3})\n",
    "    i_df[i] = i_df[i].replace({'AA': 4})\n",
    "    i_df[i] = i_df[i].replace({'SAS': 5})\n",
    "    i_df[i] = i_df[i].replace({'S': 1})\n",
    "    i_df[i] = i_df[i].replace({'AD': 1})\n",
    "    i_df[i] = i_df[i].fillna(3)\n",
    "\n",
    "#display(i_df)\n"
   ]
  },
  {
   "cell_type": "code",
   "execution_count": 6,
   "id": "4db770fa",
   "metadata": {},
   "outputs": [],
   "source": [
    "i_df.to_csv('impostor.csv')"
   ]
  },
  {
   "cell_type": "code",
   "execution_count": 7,
   "id": "4b22c8ce",
   "metadata": {},
   "outputs": [],
   "source": [
    "#Imposter related columns\n",
    "#imposter_df\n",
    "\n",
    "#i_df.rename(columns = {'You have doubts about your abilities despite people around you trusting you.':'compliment'}, inplace = True)\n",
    "i_df.rename(columns = {'Gender':'gender'}, inplace = True)\n",
    "\n",
    "\n",
    "i_df.drop(['agonize','perfect','perfectionist','enjoy activity', 'IQ score', 'EQ', 'means'], axis=1, inplace=True)\n",
    "\n",
    "#i_df\n",
    "#for col in i_df.columns:\n",
    "   # print(col)"
   ]
  },
  {
   "cell_type": "code",
   "execution_count": 8,
   "id": "7669298e",
   "metadata": {},
   "outputs": [],
   "source": [
    "weight=[1,2,1,2,1,1,2,2,2,1,2,2,1]\n",
    "\n",
    "idf=[]\n",
    "idf=i_df.iloc[:, 1:14]\n",
    "\n",
    "n=0\n",
    "for i in idf:\n",
    "    idf[i]*=weight[n]\n",
    "    n+=1\n",
    "\n",
    "#idf"
   ]
  },
  {
   "cell_type": "code",
   "execution_count": 9,
   "id": "0b2b742e",
   "metadata": {},
   "outputs": [
    {
     "data": {
      "text/html": [
       "<div>\n",
       "<style scoped>\n",
       "    .dataframe tbody tr th:only-of-type {\n",
       "        vertical-align: middle;\n",
       "    }\n",
       "\n",
       "    .dataframe tbody tr th {\n",
       "        vertical-align: top;\n",
       "    }\n",
       "\n",
       "    .dataframe thead th {\n",
       "        text-align: right;\n",
       "    }\n",
       "</style>\n",
       "<table border=\"1\" class=\"dataframe\">\n",
       "  <thead>\n",
       "    <tr style=\"text-align: right;\">\n",
       "      <th></th>\n",
       "      <th>SA</th>\n",
       "      <th>A</th>\n",
       "      <th>N</th>\n",
       "      <th>D</th>\n",
       "      <th>SD</th>\n",
       "    </tr>\n",
       "  </thead>\n",
       "  <tbody>\n",
       "    <tr>\n",
       "      <th>0</th>\n",
       "      <td>2</td>\n",
       "      <td>1</td>\n",
       "      <td>5</td>\n",
       "      <td>8</td>\n",
       "      <td>8</td>\n",
       "    </tr>\n",
       "    <tr>\n",
       "      <th>1</th>\n",
       "      <td>0</td>\n",
       "      <td>6</td>\n",
       "      <td>2</td>\n",
       "      <td>9</td>\n",
       "      <td>7</td>\n",
       "    </tr>\n",
       "    <tr>\n",
       "      <th>2</th>\n",
       "      <td>1</td>\n",
       "      <td>3</td>\n",
       "      <td>5</td>\n",
       "      <td>11</td>\n",
       "      <td>3</td>\n",
       "    </tr>\n",
       "    <tr>\n",
       "      <th>3</th>\n",
       "      <td>0</td>\n",
       "      <td>12</td>\n",
       "      <td>4</td>\n",
       "      <td>7</td>\n",
       "      <td>1</td>\n",
       "    </tr>\n",
       "    <tr>\n",
       "      <th>4</th>\n",
       "      <td>0</td>\n",
       "      <td>3</td>\n",
       "      <td>3</td>\n",
       "      <td>6</td>\n",
       "      <td>11</td>\n",
       "    </tr>\n",
       "    <tr>\n",
       "      <th>...</th>\n",
       "      <td>...</td>\n",
       "      <td>...</td>\n",
       "      <td>...</td>\n",
       "      <td>...</td>\n",
       "      <td>...</td>\n",
       "    </tr>\n",
       "    <tr>\n",
       "      <th>195</th>\n",
       "      <td>0</td>\n",
       "      <td>3</td>\n",
       "      <td>6</td>\n",
       "      <td>12</td>\n",
       "      <td>3</td>\n",
       "    </tr>\n",
       "    <tr>\n",
       "      <th>196</th>\n",
       "      <td>4</td>\n",
       "      <td>3</td>\n",
       "      <td>1</td>\n",
       "      <td>4</td>\n",
       "      <td>11</td>\n",
       "    </tr>\n",
       "    <tr>\n",
       "      <th>197</th>\n",
       "      <td>2</td>\n",
       "      <td>3</td>\n",
       "      <td>5</td>\n",
       "      <td>7</td>\n",
       "      <td>10</td>\n",
       "    </tr>\n",
       "    <tr>\n",
       "      <th>198</th>\n",
       "      <td>1</td>\n",
       "      <td>5</td>\n",
       "      <td>5</td>\n",
       "      <td>9</td>\n",
       "      <td>7</td>\n",
       "    </tr>\n",
       "    <tr>\n",
       "      <th>199</th>\n",
       "      <td>1</td>\n",
       "      <td>9</td>\n",
       "      <td>3</td>\n",
       "      <td>8</td>\n",
       "      <td>4</td>\n",
       "    </tr>\n",
       "  </tbody>\n",
       "</table>\n",
       "<p>200 rows × 5 columns</p>\n",
       "</div>"
      ],
      "text/plain": [
       "     SA   A  N   D  SD\n",
       "0     2   1  5   8   8\n",
       "1     0   6  2   9   7\n",
       "2     1   3  5  11   3\n",
       "3     0  12  4   7   1\n",
       "4     0   3  3   6  11\n",
       "..   ..  .. ..  ..  ..\n",
       "195   0   3  6  12   3\n",
       "196   4   3  1   4  11\n",
       "197   2   3  5   7  10\n",
       "198   1   5  5   9   7\n",
       "199   1   9  3   8   4\n",
       "\n",
       "[200 rows x 5 columns]"
      ]
     },
     "execution_count": 9,
     "metadata": {},
     "output_type": "execute_result"
    }
   ],
   "source": [
    "weight2=idf.filter(['many ineptness', 'rare ineptness','luck not hard work','shortcut','trust','compliment','stroke of luck'], axis=1)\n",
    "weight2[\"SA\"] = weight2.apply(lambda row: sum(row[0:15]==10) ,axis=1)\n",
    "weight2[\"A\"] = weight2.apply(lambda row: sum(row[0:15]==8) ,axis=1)\n",
    "weight2[\"N\"] = weight2.apply(lambda row: sum(row[0:15]==6) ,axis=1)\n",
    "weight2[\"D\"] = weight2.apply(lambda row: sum(row[0:15]==4) ,axis=1)\n",
    "weight2[\"SD\"] = weight2.apply(lambda row: sum(row[0:15]==2) ,axis=1)\n",
    "\n",
    "weight1=idf.filter(['success','if anybody can','incompetent','compare','expectations','no compliments'], axis=1)\n",
    "weight1[\"SA\"] = weight1.apply(lambda row: sum(row[0:15]==5) ,axis=1)\n",
    "weight1[\"A\"] = weight1.apply(lambda row: sum(row[0:15]==4) ,axis=1)\n",
    "weight1[\"N\"] = weight1.apply(lambda row: sum(row[0:15]==3) ,axis=1)\n",
    "weight1[\"D\"] = weight1.apply(lambda row: sum(row[0:15]==2) ,axis=1)\n",
    "weight1[\"SD\"] = weight1.apply(lambda row: sum(row[0:15]==1) ,axis=1)\n",
    "\n",
    "weight2_ctr=weight2[['SA','A','N','D','SD']]\n",
    "weight2_ctr*=2\n",
    "weight2_ctr\n",
    "\n",
    "weight1_ctr=weight1[['SA','A','N','D','SD']]\n",
    "weight1_ctr\n",
    "\n",
    "totalweight=weight1_ctr+weight2_ctr\n",
    "\n",
    "#totalweight\n",
    "\n"
   ]
  },
  {
   "cell_type": "code",
   "execution_count": 22,
   "id": "7a32b19e",
   "metadata": {},
   "outputs": [
    {
     "ename": "KeyError",
     "evalue": "'SA'",
     "output_type": "error",
     "traceback": [
      "\u001b[1;31m---------------------------------------------------------------------------\u001b[0m",
      "\u001b[1;31mKeyError\u001b[0m                                  Traceback (most recent call last)",
      "\u001b[1;32mC:\\ProgramData\\Anaconda3\\lib\\site-packages\\pandas\\core\\indexes\\base.py\u001b[0m in \u001b[0;36mget_loc\u001b[1;34m(self, key, method, tolerance)\u001b[0m\n\u001b[0;32m   3360\u001b[0m             \u001b[1;32mtry\u001b[0m\u001b[1;33m:\u001b[0m\u001b[1;33m\u001b[0m\u001b[1;33m\u001b[0m\u001b[0m\n\u001b[1;32m-> 3361\u001b[1;33m                 \u001b[1;32mreturn\u001b[0m \u001b[0mself\u001b[0m\u001b[1;33m.\u001b[0m\u001b[0m_engine\u001b[0m\u001b[1;33m.\u001b[0m\u001b[0mget_loc\u001b[0m\u001b[1;33m(\u001b[0m\u001b[0mcasted_key\u001b[0m\u001b[1;33m)\u001b[0m\u001b[1;33m\u001b[0m\u001b[1;33m\u001b[0m\u001b[0m\n\u001b[0m\u001b[0;32m   3362\u001b[0m             \u001b[1;32mexcept\u001b[0m \u001b[0mKeyError\u001b[0m \u001b[1;32mas\u001b[0m \u001b[0merr\u001b[0m\u001b[1;33m:\u001b[0m\u001b[1;33m\u001b[0m\u001b[1;33m\u001b[0m\u001b[0m\n",
      "\u001b[1;32mC:\\ProgramData\\Anaconda3\\lib\\site-packages\\pandas\\_libs\\index.pyx\u001b[0m in \u001b[0;36mpandas._libs.index.IndexEngine.get_loc\u001b[1;34m()\u001b[0m\n",
      "\u001b[1;32mC:\\ProgramData\\Anaconda3\\lib\\site-packages\\pandas\\_libs\\index.pyx\u001b[0m in \u001b[0;36mpandas._libs.index.IndexEngine.get_loc\u001b[1;34m()\u001b[0m\n",
      "\u001b[1;32mpandas\\_libs\\hashtable_class_helper.pxi\u001b[0m in \u001b[0;36mpandas._libs.hashtable.PyObjectHashTable.get_item\u001b[1;34m()\u001b[0m\n",
      "\u001b[1;32mpandas\\_libs\\hashtable_class_helper.pxi\u001b[0m in \u001b[0;36mpandas._libs.hashtable.PyObjectHashTable.get_item\u001b[1;34m()\u001b[0m\n",
      "\u001b[1;31mKeyError\u001b[0m: 'SA'",
      "\nThe above exception was the direct cause of the following exception:\n",
      "\u001b[1;31mKeyError\u001b[0m                                  Traceback (most recent call last)",
      "\u001b[1;32m~\\AppData\\Local\\Temp/ipykernel_2848/2389883893.py\u001b[0m in \u001b[0;36m<module>\u001b[1;34m\u001b[0m\n\u001b[1;32m----> 1\u001b[1;33m \u001b[0mtotalweight\u001b[0m\u001b[1;33m[\u001b[0m\u001b[1;34m\"Agree\"\u001b[0m\u001b[1;33m]\u001b[0m \u001b[1;33m=\u001b[0m \u001b[0mtotalweight\u001b[0m\u001b[1;33m[\u001b[0m\u001b[1;34m\"SA\"\u001b[0m\u001b[1;33m]\u001b[0m \u001b[1;33m+\u001b[0m \u001b[0mtotalweight\u001b[0m\u001b[1;33m[\u001b[0m\u001b[1;34m\"A\"\u001b[0m\u001b[1;33m]\u001b[0m\u001b[1;33m\u001b[0m\u001b[1;33m\u001b[0m\u001b[0m\n\u001b[0m\u001b[0;32m      2\u001b[0m \u001b[0mtotalweight\u001b[0m\u001b[1;33m[\u001b[0m\u001b[1;34m\"Disagree\"\u001b[0m\u001b[1;33m]\u001b[0m \u001b[1;33m=\u001b[0m \u001b[0mtotalweight\u001b[0m\u001b[1;33m[\u001b[0m\u001b[1;34m\"SD\"\u001b[0m\u001b[1;33m]\u001b[0m \u001b[1;33m+\u001b[0m \u001b[0mtotalweight\u001b[0m\u001b[1;33m[\u001b[0m\u001b[1;34m\"D\"\u001b[0m\u001b[1;33m]\u001b[0m\u001b[1;33m\u001b[0m\u001b[1;33m\u001b[0m\u001b[0m\n\u001b[0;32m      3\u001b[0m \u001b[0mtotalweight\u001b[0m\u001b[1;33m.\u001b[0m\u001b[0mdrop\u001b[0m\u001b[1;33m(\u001b[0m\u001b[1;33m[\u001b[0m\u001b[1;34m'SA'\u001b[0m\u001b[1;33m,\u001b[0m\u001b[1;34m'A'\u001b[0m\u001b[1;33m,\u001b[0m\u001b[1;34m'D'\u001b[0m\u001b[1;33m,\u001b[0m\u001b[1;34m'SD'\u001b[0m\u001b[1;33m]\u001b[0m\u001b[1;33m,\u001b[0m \u001b[0maxis\u001b[0m \u001b[1;33m=\u001b[0m \u001b[1;36m1\u001b[0m\u001b[1;33m)\u001b[0m\u001b[1;33m\u001b[0m\u001b[1;33m\u001b[0m\u001b[0m\n",
      "\u001b[1;32mC:\\ProgramData\\Anaconda3\\lib\\site-packages\\pandas\\core\\frame.py\u001b[0m in \u001b[0;36m__getitem__\u001b[1;34m(self, key)\u001b[0m\n\u001b[0;32m   3456\u001b[0m             \u001b[1;32mif\u001b[0m \u001b[0mself\u001b[0m\u001b[1;33m.\u001b[0m\u001b[0mcolumns\u001b[0m\u001b[1;33m.\u001b[0m\u001b[0mnlevels\u001b[0m \u001b[1;33m>\u001b[0m \u001b[1;36m1\u001b[0m\u001b[1;33m:\u001b[0m\u001b[1;33m\u001b[0m\u001b[1;33m\u001b[0m\u001b[0m\n\u001b[0;32m   3457\u001b[0m                 \u001b[1;32mreturn\u001b[0m \u001b[0mself\u001b[0m\u001b[1;33m.\u001b[0m\u001b[0m_getitem_multilevel\u001b[0m\u001b[1;33m(\u001b[0m\u001b[0mkey\u001b[0m\u001b[1;33m)\u001b[0m\u001b[1;33m\u001b[0m\u001b[1;33m\u001b[0m\u001b[0m\n\u001b[1;32m-> 3458\u001b[1;33m             \u001b[0mindexer\u001b[0m \u001b[1;33m=\u001b[0m \u001b[0mself\u001b[0m\u001b[1;33m.\u001b[0m\u001b[0mcolumns\u001b[0m\u001b[1;33m.\u001b[0m\u001b[0mget_loc\u001b[0m\u001b[1;33m(\u001b[0m\u001b[0mkey\u001b[0m\u001b[1;33m)\u001b[0m\u001b[1;33m\u001b[0m\u001b[1;33m\u001b[0m\u001b[0m\n\u001b[0m\u001b[0;32m   3459\u001b[0m             \u001b[1;32mif\u001b[0m \u001b[0mis_integer\u001b[0m\u001b[1;33m(\u001b[0m\u001b[0mindexer\u001b[0m\u001b[1;33m)\u001b[0m\u001b[1;33m:\u001b[0m\u001b[1;33m\u001b[0m\u001b[1;33m\u001b[0m\u001b[0m\n\u001b[0;32m   3460\u001b[0m                 \u001b[0mindexer\u001b[0m \u001b[1;33m=\u001b[0m \u001b[1;33m[\u001b[0m\u001b[0mindexer\u001b[0m\u001b[1;33m]\u001b[0m\u001b[1;33m\u001b[0m\u001b[1;33m\u001b[0m\u001b[0m\n",
      "\u001b[1;32mC:\\ProgramData\\Anaconda3\\lib\\site-packages\\pandas\\core\\indexes\\base.py\u001b[0m in \u001b[0;36mget_loc\u001b[1;34m(self, key, method, tolerance)\u001b[0m\n\u001b[0;32m   3361\u001b[0m                 \u001b[1;32mreturn\u001b[0m \u001b[0mself\u001b[0m\u001b[1;33m.\u001b[0m\u001b[0m_engine\u001b[0m\u001b[1;33m.\u001b[0m\u001b[0mget_loc\u001b[0m\u001b[1;33m(\u001b[0m\u001b[0mcasted_key\u001b[0m\u001b[1;33m)\u001b[0m\u001b[1;33m\u001b[0m\u001b[1;33m\u001b[0m\u001b[0m\n\u001b[0;32m   3362\u001b[0m             \u001b[1;32mexcept\u001b[0m \u001b[0mKeyError\u001b[0m \u001b[1;32mas\u001b[0m \u001b[0merr\u001b[0m\u001b[1;33m:\u001b[0m\u001b[1;33m\u001b[0m\u001b[1;33m\u001b[0m\u001b[0m\n\u001b[1;32m-> 3363\u001b[1;33m                 \u001b[1;32mraise\u001b[0m \u001b[0mKeyError\u001b[0m\u001b[1;33m(\u001b[0m\u001b[0mkey\u001b[0m\u001b[1;33m)\u001b[0m \u001b[1;32mfrom\u001b[0m \u001b[0merr\u001b[0m\u001b[1;33m\u001b[0m\u001b[1;33m\u001b[0m\u001b[0m\n\u001b[0m\u001b[0;32m   3364\u001b[0m \u001b[1;33m\u001b[0m\u001b[0m\n\u001b[0;32m   3365\u001b[0m         \u001b[1;32mif\u001b[0m \u001b[0mis_scalar\u001b[0m\u001b[1;33m(\u001b[0m\u001b[0mkey\u001b[0m\u001b[1;33m)\u001b[0m \u001b[1;32mand\u001b[0m \u001b[0misna\u001b[0m\u001b[1;33m(\u001b[0m\u001b[0mkey\u001b[0m\u001b[1;33m)\u001b[0m \u001b[1;32mand\u001b[0m \u001b[1;32mnot\u001b[0m \u001b[0mself\u001b[0m\u001b[1;33m.\u001b[0m\u001b[0mhasnans\u001b[0m\u001b[1;33m:\u001b[0m\u001b[1;33m\u001b[0m\u001b[1;33m\u001b[0m\u001b[0m\n",
      "\u001b[1;31mKeyError\u001b[0m: 'SA'"
     ]
    }
   ],
   "source": [
    "totalweight[\"Agree\"] = totalweight[\"SA\"] + totalweight[\"A\"]\n",
    "totalweight[\"Disagree\"] = totalweight[\"SD\"] + totalweight[\"D\"]\n",
    "totalweight.drop(['SA','A','D','SD'], axis = 1)\n"
   ]
  },
  {
   "cell_type": "code",
   "execution_count": 25,
   "id": "249e8959",
   "metadata": {},
   "outputs": [],
   "source": [
    "totalweight\n",
    "totalweight = totalweight[['Agree', 'N','Disagree']]\n",
    "totalweight.rename(columns = {'Agree':'A', 'N':'N','Disagree':'D'}, inplace = True)"
   ]
  },
  {
   "cell_type": "code",
   "execution_count": 26,
   "id": "ed35d2f2",
   "metadata": {},
   "outputs": [
    {
     "data": {
      "text/html": [
       "<div>\n",
       "<style scoped>\n",
       "    .dataframe tbody tr th:only-of-type {\n",
       "        vertical-align: middle;\n",
       "    }\n",
       "\n",
       "    .dataframe tbody tr th {\n",
       "        vertical-align: top;\n",
       "    }\n",
       "\n",
       "    .dataframe thead th {\n",
       "        text-align: right;\n",
       "    }\n",
       "</style>\n",
       "<table border=\"1\" class=\"dataframe\">\n",
       "  <thead>\n",
       "    <tr style=\"text-align: right;\">\n",
       "      <th></th>\n",
       "      <th>A</th>\n",
       "      <th>N</th>\n",
       "      <th>D</th>\n",
       "    </tr>\n",
       "  </thead>\n",
       "  <tbody>\n",
       "    <tr>\n",
       "      <th>0</th>\n",
       "      <td>0.230769</td>\n",
       "      <td>0.384615</td>\n",
       "      <td>1.230769</td>\n",
       "    </tr>\n",
       "    <tr>\n",
       "      <th>1</th>\n",
       "      <td>0.461538</td>\n",
       "      <td>0.153846</td>\n",
       "      <td>1.230769</td>\n",
       "    </tr>\n",
       "    <tr>\n",
       "      <th>2</th>\n",
       "      <td>0.307692</td>\n",
       "      <td>0.384615</td>\n",
       "      <td>1.076923</td>\n",
       "    </tr>\n",
       "    <tr>\n",
       "      <th>3</th>\n",
       "      <td>0.923077</td>\n",
       "      <td>0.307692</td>\n",
       "      <td>0.615385</td>\n",
       "    </tr>\n",
       "    <tr>\n",
       "      <th>4</th>\n",
       "      <td>0.230769</td>\n",
       "      <td>0.230769</td>\n",
       "      <td>1.307692</td>\n",
       "    </tr>\n",
       "    <tr>\n",
       "      <th>...</th>\n",
       "      <td>...</td>\n",
       "      <td>...</td>\n",
       "      <td>...</td>\n",
       "    </tr>\n",
       "    <tr>\n",
       "      <th>195</th>\n",
       "      <td>0.230769</td>\n",
       "      <td>0.461538</td>\n",
       "      <td>1.153846</td>\n",
       "    </tr>\n",
       "    <tr>\n",
       "      <th>196</th>\n",
       "      <td>0.538462</td>\n",
       "      <td>0.076923</td>\n",
       "      <td>1.153846</td>\n",
       "    </tr>\n",
       "    <tr>\n",
       "      <th>197</th>\n",
       "      <td>0.384615</td>\n",
       "      <td>0.384615</td>\n",
       "      <td>1.307692</td>\n",
       "    </tr>\n",
       "    <tr>\n",
       "      <th>198</th>\n",
       "      <td>0.461538</td>\n",
       "      <td>0.384615</td>\n",
       "      <td>1.230769</td>\n",
       "    </tr>\n",
       "    <tr>\n",
       "      <th>199</th>\n",
       "      <td>0.769231</td>\n",
       "      <td>0.230769</td>\n",
       "      <td>0.923077</td>\n",
       "    </tr>\n",
       "  </tbody>\n",
       "</table>\n",
       "<p>200 rows × 3 columns</p>\n",
       "</div>"
      ],
      "text/plain": [
       "            A         N         D\n",
       "0    0.230769  0.384615  1.230769\n",
       "1    0.461538  0.153846  1.230769\n",
       "2    0.307692  0.384615  1.076923\n",
       "3    0.923077  0.307692  0.615385\n",
       "4    0.230769  0.230769  1.307692\n",
       "..        ...       ...       ...\n",
       "195  0.230769  0.461538  1.153846\n",
       "196  0.538462  0.076923  1.153846\n",
       "197  0.384615  0.384615  1.307692\n",
       "198  0.461538  0.384615  1.230769\n",
       "199  0.769231  0.230769  0.923077\n",
       "\n",
       "[200 rows x 3 columns]"
      ]
     },
     "metadata": {},
     "output_type": "display_data"
    }
   ],
   "source": [
    "final=totalweight/13\n",
    "display(final)"
   ]
  },
  {
   "cell_type": "code",
   "execution_count": 33,
   "id": "745a4352",
   "metadata": {},
   "outputs": [],
   "source": [
    "#KMEANS\n",
    "\n",
    "import statsmodels.api as sm\n",
    "import matplotlib.pyplot as plt\n",
    "import seaborn as sns\n",
    "sns.set()\n",
    "from sklearn.cluster import KMeans\n"
   ]
  },
  {
   "cell_type": "code",
   "execution_count": 34,
   "id": "4ed6b9a9",
   "metadata": {},
   "outputs": [
    {
     "name": "stdout",
     "output_type": "stream",
     "text": [
      "[3 3 3 0 3 2 1 1 1 1 2 4 1 0 2 0 1 4 2 4 2 3 2 0 1 1 3 1 2 3 1 0 4 2 1 3 2\n",
      " 2 3 1 2 2 0 3 1 1 0 1 0 2 4 2 1 2 2 0 2 1 1 1 1 3 1 0 2 0 2 0 0 4 3 4 2 0\n",
      " 3 2 1 2 0 2 0 2 4 1 0 3 2 3 4 0 3 1 1 4 3 4 3 2 2 1 3 0 0 2 3 1 1 2 2 4 2\n",
      " 3 1 2 1 0 2 1 1 0 0 1 4 0 0 4 4 1 3 3 4 2 2 0 1 2 1 3 1 3 2 4 0 1 0 2 2 3\n",
      " 4 4 1 1 3 1 0 4 2 1 1 1 3 1 1 0 3 2 1 1 3 3 1 1 2 3 4 0 3 3 3 2 2 2 4 3 3\n",
      " 4 1 2 2 1 3 3 3 1 2 3 3 3 3 1]\n"
     ]
    }
   ],
   "source": [
    "k_means_optimum = KMeans(n_clusters = 5, init = 'k-means++',  random_state=42)\n",
    "y = k_means_optimum.fit_predict(final)\n",
    "print(y)"
   ]
  },
  {
   "cell_type": "code",
   "execution_count": 35,
   "id": "5eb583f8",
   "metadata": {},
   "outputs": [],
   "source": [
    "final['cluster'] = y  \n",
    "# the above step adds extra column indicating the cluster number\n",
    "\n",
    "final1 = final[final.cluster==0]\n",
    "final2 = final[final.cluster==1]\n",
    "final3 = final[final.cluster==2]\n",
    "\n",
    "#display(final)"
   ]
  },
  {
   "cell_type": "code",
   "execution_count": 52,
   "id": "086e7aef",
   "metadata": {},
   "outputs": [
    {
     "data": {
      "image/png": "[encoded data removed]",
      "text/plain": [
       "<Figure size 432x288 with 1 Axes>"
      ]
     },
     "metadata": {},
     "output_type": "display_data"
    }
   ],
   "source": [
    "#plotting\n",
    "\n",
    "xline = np.linspace(0, 0.5,num=100,endpoint=False)\n",
    "yline = np.linspace(0, 0.5,num=100,endpoint=False)\n",
    "zline = np.linspace(0, 0.5,num=100,endpoint=False)\n",
    "\n",
    "\n",
    "# Data for three-dimensional scattered points\n",
    "kplot = plt.axes(projection='3d')\n",
    "kplot.scatter3D(final1.A, final1.N, final1.D,c='orange', label = 'Cluster 1')\n",
    "kplot.scatter3D(final2.A, final2.N, final2.D, c ='red', label = 'Cluster 2')\n",
    "kplot.scatter3D(final3.A, final3.N, final3.D,c ='pink', label = 'Cluster 3')\n",
    "plt.scatter(k_means_optimum.cluster_centers_[:,0], k_means_optimum.cluster_centers_[:,1],cmap='rainbow', s = 50)\n",
    "plt.legend()\n",
    "plt.title(\"Kmeans\")\n",
    "plt.show()"
   ]
  }
 ],
 "metadata": {
  "kernelspec": {
   "display_name": "Python 3 (ipykernel)",
   "language": "python",
   "name": "python3"
  },
  "language_info": {
   "codemirror_mode": {
    "name": "ipython",
    "version": 3
   },
   "file_extension": ".py",
   "mimetype": "text/x-python",
   "name": "python",
   "nbconvert_exporter": "python",
   "pygments_lexer": "ipython3",
   "version": "3.9.7"
  }
 },
 "nbformat": 4,
 "nbformat_minor": 5
}
