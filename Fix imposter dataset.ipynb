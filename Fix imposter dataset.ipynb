{
 "cells": [
  {
   "cell_type": "code",
   "execution_count": 2,
   "id": "f08005f8",
   "metadata": {},
   "outputs": [],
   "source": [
    "#https://raw.githubusercontent.com/riyaeliza123/imposter-syndrome/main/Imposter%20Syndrome%20csv.csv\n",
    "\n",
    "import pandas as pd\n",
    "import numpy as np"
   ]
  },
  {
   "cell_type": "code",
   "execution_count": 14,
   "id": "c0e9a1c3",
   "metadata": {},
   "outputs": [],
   "source": [
    "df = pd.read_csv('https://raw.githubusercontent.com/riyaeliza123/imposter-syndrome/main/Imposter%20Syndrome%20csv.csv')"
   ]
  },
  {
   "cell_type": "code",
   "execution_count": 15,
   "id": "5ec62f98",
   "metadata": {},
   "outputs": [],
   "source": [
    "df[\"As the campus has reopened after conducting classes, examinations, and project reviews online over the past 2 years, do you feel that this might bring up changes in confidence levels, due to the adjustments which may have arisen doubts in self-esteem from the initial change of method?\"] = df[\"As the campus has reopened after conducting classes, examinations, and project reviews online over the past 2 years, do you feel that this might bring up changes in confidence levels, due to the adjustments which may have arisen doubts in self-esteem from the initial change of method?\"].replace(['E'],'YES')"
   ]
  },
  {
   "cell_type": "code",
   "execution_count": 18,
   "id": "8e2f4510",
   "metadata": {},
   "outputs": [],
   "source": [
    "i_df=df\n",
    "for i in i_df:\n",
    "\n",
    "    i_df[i] = i_df[i].replace({'D ': 'D'})\n",
    "    i_df[i] = i_df[i].replace({'DS': 'SD'})\n",
    "    i_df[i] = i_df[i].replace({'A ': 'A'})\n",
    "    i_df[i] = i_df[i].replace({' D': 'D'})\n",
    "    i_df[i] = i_df[i].replace({'SA ': 'SA'})\n",
    "    i_df[i] = i_df[i].replace({'SF': 'SD'})\n",
    "    i_df[i] = i_df[i].replace({'N ': 'N'})\n",
    "    i_df[i] = i_df[i].replace({'AA': 'A'})\n",
    "    i_df[i] = i_df[i].replace({'SAS': 'SA'})\n",
    "    i_df[i] = i_df[i].replace({'S': 'SD'})\n",
    "    i_df[i] = i_df[i].replace({'AD': 'SD'})"
   ]
  },
  {
   "cell_type": "code",
   "execution_count": 19,
   "id": "18f7b09a",
   "metadata": {},
   "outputs": [],
   "source": [
    "df.to_csv('Cleaned.csv')"
   ]
  }
 ],
 "metadata": {
  "kernelspec": {
   "display_name": "Python 3 (ipykernel)",
   "language": "python",
   "name": "python3"
  },
  "language_info": {
   "codemirror_mode": {
    "name": "ipython",
    "version": 3
   },
   "file_extension": ".py",
   "mimetype": "text/x-python",
   "name": "python",
   "nbconvert_exporter": "python",
   "pygments_lexer": "ipython3",
   "version": "3.9.7"
  }
 },
 "nbformat": 4,
 "nbformat_minor": 5
}
